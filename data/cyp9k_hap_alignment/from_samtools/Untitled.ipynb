{
 "cells": [
  {
   "cell_type": "code",
   "execution_count": 6,
   "id": "b6f10a11-ff06-4bd7-b723-5239247bd8a0",
   "metadata": {},
   "outputs": [],
   "source": [
    "import numpy as np\n",
    "import zarr\n",
    "import pandas as pd\n",
    "import allel\n",
    "import warnings\n",
    "import scipy\n",
    "from scipy.spatial.distance import squareform\n",
    "import matplotlib.pyplot as plt\n",
    "import matplotlib.patches as mpatches\n",
    "from matplotlib.backends.backend_pdf import PdfPages\n",
    "from matplotlib import cm\n",
    "import seaborn as sns\n",
    "import itertools\n",
    "import random"
   ]
  },
  {
   "cell_type": "code",
   "execution_count": 12,
   "id": "fcac7dd4-2f77-4c2a-b4a7-2b4996757d95",
   "metadata": {},
   "outputs": [],
   "source": [
    "allel.vcf_to_zarr('cyp9k_samtools.minmaf0.01.b5phased.finfix.eff.vcf.gz', 'cyp9k_samtools.minmaf0.01.b5phased.finfix.eff.zarr')"
   ]
  },
  {
   "cell_type": "code",
   "execution_count": null,
   "id": "929acbf4-9b9d-479f-8100-63adfa09b7e0",
   "metadata": {},
   "outputs": [],
   "source": [
    "cyp_haps   = zarr.open('cyp9k_samtools.minmaf0.01.b5phased.finfix.eff.zarr')"
   ]
  },
  {
   "cell_type": "code",
   "execution_count": 18,
   "id": "198288c1-e0d3-4d7e-a865-1da357e47b15",
   "metadata": {},
   "outputs": [],
   "source": [
    "cyp_hapcalls = cyp_haps[\"variants\"]"
   ]
  },
  {
   "cell_type": "code",
   "execution_count": 19,
   "id": "2a770e28-31a6-45fb-be90-289d803f5b33",
   "metadata": {},
   "outputs": [],
   "source": [
    "cyp_hapvars = allel.VariantChunkedTable(cyp_hapcalls,names=[\"POS\",\"REF\",\"ALT\"],index=\"POS\") "
   ]
  },
  {
   "cell_type": "code",
   "execution_count": 20,
   "id": "c2ca9bcb-a7fa-4acb-b2d3-f9d2eaba7255",
   "metadata": {},
   "outputs": [
    {
     "ename": "KeyError",
     "evalue": "'calldata'",
     "output_type": "error",
     "traceback": [
      "\u001b[0;31m---------------------------------------------------------------------------\u001b[0m",
      "\u001b[0;31mKeyError\u001b[0m                                  Traceback (most recent call last)",
      "\u001b[0;32m<ipython-input-20-e67821bee162>\u001b[0m in \u001b[0;36m<module>\u001b[0;34m\u001b[0m\n\u001b[0;32m----> 1\u001b[0;31m \u001b[0mp2_hapcall_hap\u001b[0m \u001b[0;34m=\u001b[0m \u001b[0mcyp_hapcalls\u001b[0m\u001b[0;34m[\u001b[0m\u001b[0;34m\"calldata\"\u001b[0m\u001b[0;34m]\u001b[0m\u001b[0;34m[\u001b[0m\u001b[0;34m\"genotype\"\u001b[0m\u001b[0;34m]\u001b[0m\u001b[0;34m\u001b[0m\u001b[0;34m\u001b[0m\u001b[0m\n\u001b[0m\u001b[1;32m      2\u001b[0m \u001b[0mp2_haploty\u001b[0m     \u001b[0;34m=\u001b[0m \u001b[0mallel\u001b[0m\u001b[0;34m.\u001b[0m\u001b[0mGenotypeChunkedArray\u001b[0m\u001b[0;34m(\u001b[0m\u001b[0mp2_hapcall_hap\u001b[0m\u001b[0;34m)\u001b[0m\u001b[0;34m\u001b[0m\u001b[0;34m\u001b[0m\u001b[0m\n\u001b[1;32m      3\u001b[0m \u001b[0mp2_haploty\u001b[0m     \u001b[0;34m=\u001b[0m \u001b[0mp2_haploty\u001b[0m\u001b[0;34m.\u001b[0m\u001b[0msubset\u001b[0m\u001b[0;34m(\u001b[0m\u001b[0msel1\u001b[0m\u001b[0;34m=\u001b[0m\u001b[0mp2_samples_bool\u001b[0m\u001b[0;34m)\u001b[0m\u001b[0;34m\u001b[0m\u001b[0;34m\u001b[0m\u001b[0m\n",
      "\u001b[0;32m~/opt/anaconda3/envs/td_je_larvae_paper/lib/python3.6/site-packages/zarr/hierarchy.py\u001b[0m in \u001b[0;36m__getitem__\u001b[0;34m(self, item)\u001b[0m\n\u001b[1;32m    347\u001b[0m                          synchronizer=self._synchronizer)\n\u001b[1;32m    348\u001b[0m         \u001b[0;32melse\u001b[0m\u001b[0;34m:\u001b[0m\u001b[0;34m\u001b[0m\u001b[0;34m\u001b[0m\u001b[0m\n\u001b[0;32m--> 349\u001b[0;31m             \u001b[0;32mraise\u001b[0m \u001b[0mKeyError\u001b[0m\u001b[0;34m(\u001b[0m\u001b[0mitem\u001b[0m\u001b[0;34m)\u001b[0m\u001b[0;34m\u001b[0m\u001b[0;34m\u001b[0m\u001b[0m\n\u001b[0m\u001b[1;32m    350\u001b[0m \u001b[0;34m\u001b[0m\u001b[0m\n\u001b[1;32m    351\u001b[0m     \u001b[0;32mdef\u001b[0m \u001b[0m__setitem__\u001b[0m\u001b[0;34m(\u001b[0m\u001b[0mself\u001b[0m\u001b[0;34m,\u001b[0m \u001b[0mitem\u001b[0m\u001b[0;34m,\u001b[0m \u001b[0mvalue\u001b[0m\u001b[0;34m)\u001b[0m\u001b[0;34m:\u001b[0m\u001b[0;34m\u001b[0m\u001b[0;34m\u001b[0m\u001b[0m\n",
      "\u001b[0;31mKeyError\u001b[0m: 'calldata'"
     ]
    }
   ],
   "source": [
    "p2_hapcall_hap = cyp_hapcalls[\"calldata\"][\"genotype\"]\n",
    "p2_haploty     = allel.GenotypeChunkedArray(p2_hapcall_hap) \n",
    "p2_haploty     = p2_haploty.subset(sel1=p2_samples_bool)"
   ]
  }
 ],
 "metadata": {
  "kernelspec": {
   "display_name": "Python 3",
   "language": "python",
   "name": "python3"
  },
  "language_info": {
   "codemirror_mode": {
    "name": "ipython",
    "version": 3
   },
   "file_extension": ".py",
   "mimetype": "text/x-python",
   "name": "python",
   "nbconvert_exporter": "python",
   "pygments_lexer": "ipython3",
   "version": "3.6.13"
  }
 },
 "nbformat": 4,
 "nbformat_minor": 5
}
